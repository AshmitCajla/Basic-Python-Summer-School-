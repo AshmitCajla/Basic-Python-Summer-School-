{
  "nbformat": 4,
  "nbformat_minor": 0,
  "metadata": {
    "colab": {
      "provenance": [],
      "authorship_tag": "ABX9TyPZJMieQsPvNy8WRF3kHZ3x",
      "include_colab_link": true
    },
    "kernelspec": {
      "name": "python3",
      "display_name": "Python 3"
    },
    "language_info": {
      "name": "python"
    }
  },
  "cells": [
    {
      "cell_type": "markdown",
      "metadata": {
        "id": "view-in-github",
        "colab_type": "text"
      },
      "source": [
        "<a href=\"https://colab.research.google.com/github/AshmitCajla/Basic-Python-Summer-School-/blob/main/Assignment_Q8.ipynb\" target=\"_parent\"><img src=\"https://colab.research.google.com/assets/colab-badge.svg\" alt=\"Open In Colab\"/></a>"
      ]
    },
    {
      "cell_type": "code",
      "execution_count": 3,
      "metadata": {
        "colab": {
          "base_uri": "https://localhost:8080/"
        },
        "id": "_JLjq0tWo4BL",
        "outputId": "0f701ffb-45a9-42f2-b229-71b975a5623a"
      },
      "outputs": [
        {
          "output_type": "stream",
          "name": "stdout",
          "text": [
            "Writing Done !!\n"
          ]
        }
      ],
      "source": [
        "D=[\"One\",\"Two\",\"Three\",\"Four\",\"Five\"]\n",
        "fp=open('lengthcheck.txt','w')\n",
        "for i in D:\n",
        "  length = len(i)\n",
        "  fp.write(i+\" --->  \"+str(length)+\"\\n\")\n",
        "fp.close()\n",
        "\n",
        "print(\"Writing Done !!\")"
      ]
    }
  ]
}