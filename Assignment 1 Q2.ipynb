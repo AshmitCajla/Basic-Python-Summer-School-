{
 "cells": [
  {
   "cell_type": "code",
   "execution_count": null,
   "id": "50a70bd3",
   "metadata": {},
   "outputs": [],
   "source": []
  },
  {
   "cell_type": "code",
   "execution_count": 1,
   "id": "e99b3280",
   "metadata": {},
   "outputs": [],
   "source": [
    " D= {1:5.6, 2:7.8, 3:6.6, 4:8.7, 5:7.7}"
   ]
  },
  {
   "cell_type": "markdown",
   "id": "f7af6c46",
   "metadata": {},
   "source": [
    "Adding and Removing"
   ]
  },
  {
   "cell_type": "code",
   "execution_count": 2,
   "id": "50671eb5",
   "metadata": {},
   "outputs": [
    {
     "name": "stdout",
     "output_type": "stream",
     "text": [
      "updated dictionary : {1: 5.6, 2: 7.8, 3: 6.6, 4: 8.7, 5: 7.7, 8: 8.8}\n"
     ]
    }
   ],
   "source": [
    "D[8]=8.8\n",
    "print ('updated dictionary :', D )"
   ]
  },
  {
   "cell_type": "code",
   "execution_count": 3,
   "id": "80f17ad4",
   "metadata": {},
   "outputs": [
    {
     "name": "stdout",
     "output_type": "stream",
     "text": [
      "updated dictionary : {1: 5.6, 3: 6.6, 4: 8.7, 5: 7.7, 8: 8.8}\n"
     ]
    }
   ],
   "source": [
    "del D[2]\n",
    "print ('updated dictionary :', D )"
   ]
  },
  {
   "cell_type": "code",
   "execution_count": 4,
   "id": "b3ef4c6e",
   "metadata": {},
   "outputs": [
    {
     "name": "stdout",
     "output_type": "stream",
     "text": [
      "Not present\n"
     ]
    }
   ],
   "source": [
    "if 6 in D == True:\n",
    "    print ('Present')\n",
    "else:    \n",
    "    print ('Not present')"
   ]
  },
  {
   "cell_type": "markdown",
   "id": "4c65dd2a",
   "metadata": {},
   "source": [
    "length of dictionary"
   ]
  },
  {
   "cell_type": "code",
   "execution_count": 5,
   "id": "9c8ac9f2",
   "metadata": {},
   "outputs": [
    {
     "name": "stdout",
     "output_type": "stream",
     "text": [
      "number of elements in given Dictionary : 5\n"
     ]
    }
   ],
   "source": [
    "print ('number of elements in given Dictionary :', len(D))"
   ]
  },
  {
   "cell_type": "markdown",
   "id": "4b33bf5a",
   "metadata": {},
   "source": [
    "Sum of Values"
   ]
  },
  {
   "cell_type": "code",
   "execution_count": 6,
   "id": "c53a0d80",
   "metadata": {},
   "outputs": [
    {
     "name": "stdout",
     "output_type": "stream",
     "text": [
      "Sum of Values     -->  37.4\n"
     ]
    }
   ],
   "source": [
    "print (\"Sum of Values     --> \", sum(D.values()))"
   ]
  },
  {
   "cell_type": "markdown",
   "id": "b02fa13f",
   "metadata": {},
   "source": [
    "Updating value"
   ]
  },
  {
   "cell_type": "code",
   "execution_count": 7,
   "id": "727f5c1e",
   "metadata": {},
   "outputs": [
    {
     "name": "stdout",
     "output_type": "stream",
     "text": [
      "updated dictionary : {1: 5.6, 3: 7.1, 4: 8.7, 5: 7.7, 8: 8.8}\n"
     ]
    }
   ],
   "source": [
    "D[3] = 7.1\n",
    "print ('updated dictionary :', D )"
   ]
  },
  {
   "cell_type": "markdown",
   "id": "39a32784",
   "metadata": {},
   "source": [
    "Deleting"
   ]
  },
  {
   "cell_type": "code",
   "execution_count": 8,
   "id": "b8c2b293",
   "metadata": {},
   "outputs": [],
   "source": [
    "del[D]\n"
   ]
  }
 ],
 "metadata": {
  "kernelspec": {
   "display_name": "Python 3 (ipykernel)",
   "language": "python",
   "name": "python3"
  },
  "language_info": {
   "codemirror_mode": {
    "name": "ipython",
    "version": 3
   },
   "file_extension": ".py",
   "mimetype": "text/x-python",
   "name": "python",
   "nbconvert_exporter": "python",
   "pygments_lexer": "ipython3",
   "version": "3.10.9"
  }
 },
 "nbformat": 4,
 "nbformat_minor": 5
}
