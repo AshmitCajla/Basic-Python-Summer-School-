{
  "nbformat": 4,
  "nbformat_minor": 0,
  "metadata": {
    "colab": {
      "provenance": [],
      "authorship_tag": "ABX9TyMryfcBNLTAp0X/TgewbM8A",
      "include_colab_link": true
    },
    "kernelspec": {
      "name": "python3",
      "display_name": "Python 3"
    },
    "language_info": {
      "name": "python"
    }
  },
  "cells": [
    {
      "cell_type": "markdown",
      "metadata": {
        "id": "view-in-github",
        "colab_type": "text"
      },
      "source": [
        "<a href=\"https://colab.research.google.com/github/AshmitCajla/Basic-Python-Summer-School-/blob/main/Assignment_Q7.ipynb\" target=\"_parent\"><img src=\"https://colab.research.google.com/assets/colab-badge.svg\" alt=\"Open In Colab\"/></a>"
      ]
    },
    {
      "cell_type": "code",
      "execution_count": 2,
      "metadata": {
        "colab": {
          "base_uri": "https://localhost:8080/"
        },
        "id": "e7axw1hcnwzm",
        "outputId": "203d187c-9229-476e-9012-8736bcf302e9"
      },
      "outputs": [
        {
          "output_type": "stream",
          "name": "stdout",
          "text": [
            "Writing Done !!\n"
          ]
        }
      ],
      "source": [
        "\n",
        "D={1:\"One\",2:\"Two\",3:\"Three\",4:\"Four\", 5:\"Five\"}\n",
        "fp=open('result.txt','w')\n",
        "for k in D:\n",
        "  fp.write(str(k) + \" , \" + D[k] + \"\\n\")\n",
        "fp.close()\n",
        "\n",
        "print(\"Writing Done !!\")\n"
      ]
    }
  ]
}