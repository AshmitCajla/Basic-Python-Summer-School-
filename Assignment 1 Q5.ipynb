{
 "cells": [
  {
   "cell_type": "code",
   "execution_count": 1,
   "id": "694a8484",
   "metadata": {},
   "outputs": [],
   "source": [
    "import random as r\n"
   ]
  },
  {
   "cell_type": "code",
   "execution_count": 38,
   "id": "617a5894",
   "metadata": {},
   "outputs": [
    {
     "name": "stdout",
     "output_type": "stream",
     "text": [
      "[17, 18, 28, 21, 25, 13, 22, 23, 29, 26]\n",
      "[27, 29, 12, 14, 28, 25, 15, 18, 26, 10]\n"
     ]
    }
   ],
   "source": [
    "a =(r.sample(range(10,30), 10))\n",
    "b =(r.sample(range(10,30), 10)) \n",
    "print (a)\n",
    "print (b)"
   ]
  },
  {
   "cell_type": "code",
   "execution_count": 39,
   "id": "5f21e344",
   "metadata": {},
   "outputs": [
    {
     "name": "stdout",
     "output_type": "stream",
     "text": [
      "common elements in both Sets : [18, 28, 25, 29, 26]\n",
      "Unique elements in Set a : [17, 21, 13, 22, 23]\n"
     ]
    }
   ],
   "source": [
    "un = []\n",
    "uniquea = []\n",
    "unib = []\n",
    "d = []\n",
    "for i in a:\n",
    "    if i in b:\n",
    "        un.append(i)\n",
    "    else:\n",
    "        uniquea.append(i)\n",
    "\n",
    "print ('common elements in both Sets :',un)\n",
    "\n",
    "\n"
   ]
  },
  {
   "cell_type": "code",
   "execution_count": 55,
   "id": "23876cb2",
   "metadata": {},
   "outputs": [
    {
     "name": "stdout",
     "output_type": "stream",
     "text": [
      "Unique elements in Set b : [27, 12, 14, 15, 10, 27, 12, 14, 15, 10]\n",
      "Unique elements in Set a : [17, 21, 13, 22, 23]\n",
      "Unique elements : [17, 21, 13, 22, 23, 27, 12, 14, 15, 10, 27, 12, 14, 15, 10]\n"
     ]
    }
   ],
   "source": [
    "for i in b:\n",
    "    if i in a:\n",
    "        d.append(i)\n",
    "    else: \n",
    "        unib.append(i)\n",
    "UniqueElements = uniquea + unib\n",
    "print ('Unique elements in Set b :',unib)\n",
    "print ('Unique elements in Set a :',uniquea)\n",
    "print ('Unique elements :',UniqueElements)\n"
   ]
  },
  {
   "cell_type": "code",
   "execution_count": 58,
   "id": "191b95a9",
   "metadata": {},
   "outputs": [
    {
     "name": "stdout",
     "output_type": "stream",
     "text": [
      "Maximum element in lists : 29\n",
      "Minimum element in lists : 10\n"
     ]
    }
   ],
   "source": [
    "c = a + b\n",
    "print ('Maximum element in lists :', max(c))\n",
    "print ('Minimum element in lists :', min(c))"
   ]
  },
  {
   "cell_type": "code",
   "execution_count": 59,
   "id": "f0fa774e",
   "metadata": {},
   "outputs": [
    {
     "name": "stdout",
     "output_type": "stream",
     "text": [
      "Sum of elements : 426\n"
     ]
    }
   ],
   "source": [
    "print ('Sum of elements :', sum(c))"
   ]
  }
 ],
 "metadata": {
  "kernelspec": {
   "display_name": "Python 3 (ipykernel)",
   "language": "python",
   "name": "python3"
  },
  "language_info": {
   "codemirror_mode": {
    "name": "ipython",
    "version": 3
   },
   "file_extension": ".py",
   "mimetype": "text/x-python",
   "name": "python",
   "nbconvert_exporter": "python",
   "pygments_lexer": "ipython3",
   "version": "3.10.9"
  }
 },
 "nbformat": 4,
 "nbformat_minor": 5
}
