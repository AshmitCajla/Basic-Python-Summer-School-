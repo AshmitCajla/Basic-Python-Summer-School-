{
 "cells": [
  {
   "cell_type": "code",
   "execution_count": 22,
   "id": "404c4f10",
   "metadata": {},
   "outputs": [
    {
     "name": "stdout",
     "output_type": "stream",
     "text": [
      "Numbers : [11, 2, 3, 783, 2479]\n",
      "Strings : ['Ram', 'Shyam', 'Aman', 'sdk', 'fll']\n",
      "Sorted List ---> [2, 3, 11, 783, 2479, 2, 3, 11, 783, 2479, 'Aman', 'Ram', 'Shyam', 'fll', 'sdk']\n"
     ]
    }
   ],
   "source": [
    "L = [\"Ram\", 11, \"Shyam\", 2, \"Aman\", 3, 'sdk', 783, 2479, 'fll',7802.2 , 54.5]\n",
    "spr = []\n",
    "ite = []\n",
    "flt = []\n",
    "for i in L:\n",
    "    if str(i).isnumeric()== True:\n",
    "       ite.append(i)\n",
    "    if str(i).isalpha()== True:\n",
    "       spr.append(i)\n",
    "    if str(i).isdecimal()== True:\n",
    "     flt.append(i)\n",
    "print ('Numbers :', ite)\n",
    "print ('Strings :', spr)\n",
    "ite.sort()\n",
    "spr.sort()\n",
    "flt.sort()\n",
    "Resortedlist = ite + flt + spr\n",
    "print ('Sorted List --->', Resortedlist) "
   ]
  }
 ],
 "metadata": {
  "kernelspec": {
   "display_name": "Python 3 (ipykernel)",
   "language": "python",
   "name": "python3"
  },
  "language_info": {
   "codemirror_mode": {
    "name": "ipython",
    "version": 3
   },
   "file_extension": ".py",
   "mimetype": "text/x-python",
   "name": "python",
   "nbconvert_exporter": "python",
   "pygments_lexer": "ipython3",
   "version": "3.10.9"
  }
 },
 "nbformat": 4,
 "nbformat_minor": 5
}
