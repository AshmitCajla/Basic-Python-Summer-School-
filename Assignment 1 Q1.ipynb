{
 "cells": [
  {
   "cell_type": "markdown",
   "id": "0bc87fc9",
   "metadata": {},
   "source": [
    "**QUESTION 1**"
   ]
  },
  {
   "cell_type": "code",
   "execution_count": 1,
   "id": "5a8303c6",
   "metadata": {},
   "outputs": [
    {
     "name": "stdout",
     "output_type": "stream",
     "text": [
      "original list : [11, 12, 13, 14]\n",
      "number of elements in L : 4\n"
     ]
    }
   ],
   "source": [
    "L = [11,12,13,14]\n",
    "print (\"original list :\", L)\n",
    "print (\"number of elements in L :\", len(L))"
   ]
  },
  {
   "cell_type": "markdown",
   "id": "a2c574df",
   "metadata": {},
   "source": [
    "Adding 50 and 60"
   ]
  },
  {
   "cell_type": "code",
   "execution_count": 2,
   "id": "1ad8e0cb",
   "metadata": {},
   "outputs": [
    {
     "name": "stdout",
     "output_type": "stream",
     "text": [
      "original list : [11, 12, 13, 14, 50, 60]\n",
      "number of elements in L : 6\n"
     ]
    }
   ],
   "source": [
    "L.append(50)\n",
    "L.append(60)\n",
    "print (\"original list :\", L)\n",
    "print (\"number of elements in L :\", len(L))"
   ]
  },
  {
   "cell_type": "markdown",
   "id": "c8cb1904",
   "metadata": {},
   "source": [
    "Deleting 11 and 13"
   ]
  },
  {
   "cell_type": "code",
   "execution_count": 3,
   "id": "92548f1b",
   "metadata": {},
   "outputs": [],
   "source": [
    "del L[0]"
   ]
  },
  {
   "cell_type": "code",
   "execution_count": 4,
   "id": "b45d406a",
   "metadata": {},
   "outputs": [
    {
     "name": "stdout",
     "output_type": "stream",
     "text": [
      "original list : [12, 13, 14, 50, 60]\n"
     ]
    }
   ],
   "source": [
    "print (\"original list :\", L)\n",
    "del L[1]"
   ]
  },
  {
   "cell_type": "code",
   "execution_count": 5,
   "id": "0c7a81f4",
   "metadata": {},
   "outputs": [
    {
     "name": "stdout",
     "output_type": "stream",
     "text": [
      "original list : [12, 14, 50, 60]\n"
     ]
    }
   ],
   "source": [
    "print (\"original list :\", L)\n"
   ]
  },
  {
   "cell_type": "markdown",
   "id": "dab35349",
   "metadata": {},
   "source": [
    "Sorting Ascending and Descending"
   ]
  },
  {
   "cell_type": "code",
   "execution_count": 6,
   "id": "3dc29e05",
   "metadata": {},
   "outputs": [
    {
     "name": "stdout",
     "output_type": "stream",
     "text": [
      "L in ascending order ---> [12, 14, 50, 60]\n"
     ]
    }
   ],
   "source": [
    "L.sort()\n",
    "print (\"L in ascending order --->\", L) "
   ]
  },
  {
   "cell_type": "code",
   "execution_count": 7,
   "id": "c6fa9c42",
   "metadata": {},
   "outputs": [
    {
     "name": "stdout",
     "output_type": "stream",
     "text": [
      "L in descending order ---> [60, 50, 14, 12]\n"
     ]
    }
   ],
   "source": [
    "L.sort(reverse=True)\n",
    "print (\"L in descending order --->\", L) "
   ]
  },
  {
   "cell_type": "markdown",
   "id": "93fcd081",
   "metadata": {},
   "source": [
    "Search for 13"
   ]
  },
  {
   "cell_type": "code",
   "execution_count": 8,
   "id": "49c2bc43",
   "metadata": {},
   "outputs": [
    {
     "name": "stdout",
     "output_type": "stream",
     "text": [
      "Not Present\n"
     ]
    }
   ],
   "source": [
    "if (13 in L) == True: \n",
    "    print (\"Present\")\n",
    "else:\n",
    "    print (\"Not Present\")"
   ]
  },
  {
   "cell_type": "markdown",
   "id": "c3211097",
   "metadata": {},
   "source": [
    "Count elements in L"
   ]
  },
  {
   "cell_type": "code",
   "execution_count": 9,
   "id": "c4c46d7b",
   "metadata": {},
   "outputs": [
    {
     "name": "stdout",
     "output_type": "stream",
     "text": [
      "list : [60, 50, 14, 12]\n",
      "number of elements in L : 4\n"
     ]
    }
   ],
   "source": [
    "print (\"list :\", L)\n",
    "print (\"number of elements in L :\", len(L))"
   ]
  },
  {
   "cell_type": "markdown",
   "id": "a28344e1",
   "metadata": {},
   "source": [
    "Sum of all elements in L"
   ]
  },
  {
   "cell_type": "code",
   "execution_count": 10,
   "id": "fb69e357",
   "metadata": {},
   "outputs": [
    {
     "name": "stdout",
     "output_type": "stream",
     "text": [
      "Sum     -->  136\n"
     ]
    }
   ],
   "source": [
    "print (\"Sum     --> \", sum(L))"
   ]
  },
  {
   "cell_type": "markdown",
   "id": "692c241e",
   "metadata": {},
   "source": [
    "Sum of Odd and Even numbers in L"
   ]
  },
  {
   "cell_type": "code",
   "execution_count": 11,
   "id": "ee931b8a",
   "metadata": {},
   "outputs": [
    {
     "name": "stdout",
     "output_type": "stream",
     "text": [
      "sum of Odd numbers : 0\n",
      "sum of Even numbers : 136\n"
     ]
    }
   ],
   "source": [
    "even = []\n",
    "odd = []\n",
    "for i in L:\n",
    "     if i % 2 == 0:\n",
    "        even.append(i)\n",
    "     else: \n",
    "        odd.append(i)\n",
    "print (\"sum of Odd numbers :\", sum(odd))\n",
    "print (\"sum of Even numbers :\", sum(even))"
   ]
  },
  {
   "cell_type": "markdown",
   "id": "678b9f74",
   "metadata": {},
   "source": [
    "Sum of Prime numbers in L"
   ]
  },
  {
   "cell_type": "code",
   "execution_count": 12,
   "id": "ceba1386",
   "metadata": {},
   "outputs": [
    {
     "name": "stdout",
     "output_type": "stream",
     "text": [
      "sum of prime numbers in List : 0\n"
     ]
    }
   ],
   "source": [
    "pr = []\n",
    "for i in L:\n",
    "    if all(i%j == 0 for j in range(2, int(i*0.5)+1)):\n",
    "            pr.append(i)\n",
    "print (\"sum of prime numbers in List :\", sum(pr))"
   ]
  },
  {
   "cell_type": "markdown",
   "id": "7b5aa884",
   "metadata": {},
   "source": [
    "Removing all elements in L"
   ]
  },
  {
   "cell_type": "code",
   "execution_count": 13,
   "id": "cf2f36cc",
   "metadata": {
    "scrolled": true
   },
   "outputs": [
    {
     "name": "stdout",
     "output_type": "stream",
     "text": [
      "list : []\n"
     ]
    }
   ],
   "source": [
    "L.clear()\n",
    "print (\"list :\", L)"
   ]
  },
  {
   "cell_type": "markdown",
   "id": "6afa733e",
   "metadata": {},
   "source": [
    "Deleting List"
   ]
  },
  {
   "cell_type": "code",
   "execution_count": 14,
   "id": "009280ff",
   "metadata": {},
   "outputs": [],
   "source": [
    "del(L)"
   ]
  },
  {
   "cell_type": "markdown",
   "id": "ef758962",
   "metadata": {},
   "source": [
    "**Question 2**"
   ]
  },
  {
   "cell_type": "code",
   "execution_count": null,
   "id": "fad7dcfb",
   "metadata": {},
   "outputs": [],
   "source": []
  }
 ],
 "metadata": {
  "kernelspec": {
   "display_name": "Python 3 (ipykernel)",
   "language": "python",
   "name": "python3"
  },
  "language_info": {
   "codemirror_mode": {
    "name": "ipython",
    "version": 3
   },
   "file_extension": ".py",
   "mimetype": "text/x-python",
   "name": "python",
   "nbconvert_exporter": "python",
   "pygments_lexer": "ipython3",
   "version": "3.10.9"
  }
 },
 "nbformat": 4,
 "nbformat_minor": 5
}
