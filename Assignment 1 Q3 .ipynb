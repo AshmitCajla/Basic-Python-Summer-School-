{
 "cells": [
  {
   "cell_type": "code",
   "execution_count": 1,
   "id": "3a35b379",
   "metadata": {},
   "outputs": [],
   "source": [
    "a = set([10, 20, 30, 40, 50, 60])\n",
    "b = set([40, 50, 60, 70, 80, 90])"
   ]
  },
  {
   "cell_type": "code",
   "execution_count": 2,
   "id": "b6a313f6",
   "metadata": {},
   "outputs": [
    {
     "name": "stdout",
     "output_type": "stream",
     "text": [
      "set 1 : {66, 40, 10, 50, 20, 55, 60, 30}\n"
     ]
    }
   ],
   "source": [
    "a.add(55)\n",
    "a.add(66)\n",
    "print('set 1 :', a)"
   ]
  },
  {
   "cell_type": "code",
   "execution_count": 3,
   "id": "bc96b9f7",
   "metadata": {},
   "outputs": [
    {
     "name": "stdout",
     "output_type": "stream",
     "text": [
      "set 1 : {66, 40, 50, 20, 55, 60}\n"
     ]
    }
   ],
   "source": [
    "a.remove(30)\n",
    "a.remove(10)\n",
    "print('set 1 :', a)"
   ]
  },
  {
   "cell_type": "code",
   "execution_count": 4,
   "id": "bde2a2be",
   "metadata": {},
   "outputs": [
    {
     "name": "stdout",
     "output_type": "stream",
     "text": [
      "Present\n"
     ]
    }
   ],
   "source": [
    "if 40 in a: \n",
    "    print ('Present')\n",
    "else :\n",
    "    print ('Not Present')"
   ]
  },
  {
   "cell_type": "code",
   "execution_count": 5,
   "id": "6662e9ff",
   "metadata": {},
   "outputs": [
    {
     "name": "stdout",
     "output_type": "stream",
     "text": [
      "Intersection of a,b -->  {40, 50, 60}\n"
     ]
    }
   ],
   "source": [
    "print (\"Intersection of a,b --> \", a.intersection(b))"
   ]
  },
  {
   "cell_type": "code",
   "execution_count": 6,
   "id": "6dab1164",
   "metadata": {},
   "outputs": [
    {
     "name": "stdout",
     "output_type": "stream",
     "text": [
      "Original set b      -->  {70, 40, 80, 50, 90, 60}\n"
     ]
    }
   ],
   "source": [
    "print (\"Original set b      --> \", b)"
   ]
  },
  {
   "cell_type": "code",
   "execution_count": 7,
   "id": "4ac487ea",
   "metadata": {},
   "outputs": [
    {
     "name": "stdout",
     "output_type": "stream",
     "text": [
      "Difference a - b    -->  {66, 20, 55}\n"
     ]
    }
   ],
   "source": [
    "print (\"Difference a - b    --> \", a.difference(b))"
   ]
  }
 ],
 "metadata": {
  "kernelspec": {
   "display_name": "Python 3 (ipykernel)",
   "language": "python",
   "name": "python3"
  },
  "language_info": {
   "codemirror_mode": {
    "name": "ipython",
    "version": 3
   },
   "file_extension": ".py",
   "mimetype": "text/x-python",
   "name": "python",
   "nbconvert_exporter": "python",
   "pygments_lexer": "ipython3",
   "version": "3.10.9"
  }
 },
 "nbformat": 4,
 "nbformat_minor": 5
}
