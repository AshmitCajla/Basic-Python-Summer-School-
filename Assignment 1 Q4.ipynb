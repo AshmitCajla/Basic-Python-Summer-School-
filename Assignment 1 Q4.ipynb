{
  "nbformat": 4,
  "nbformat_minor": 0,
  "metadata": {
    "colab": {
      "provenance": [],
      "authorship_tag": "ABX9TyOEIVWqTk06QEo2ZorJwCPi",
      "include_colab_link": true
    },
    "kernelspec": {
      "name": "python3",
      "display_name": "Python 3"
    },
    "language_info": {
      "name": "python"
    }
  },
  "cells": [
    {
      "cell_type": "markdown",
      "metadata": {
        "id": "view-in-github",
        "colab_type": "text"
      },
      "source": [
        "<a href=\"https://colab.research.google.com/github/AshmitCajla/Basic-Python-Summer-School-/blob/main/Assignment%201%20Q4.ipynb\" target=\"_parent\"><img src=\"https://colab.research.google.com/assets/colab-badge.svg\" alt=\"Open In Colab\"/></a>"
      ]
    },
    {
      "cell_type": "code",
      "execution_count": null,
      "metadata": {
        "colab": {
          "base_uri": "https://localhost:8080/"
        },
        "id": "HJywatqjpmW-",
        "outputId": "a7927164-a5a4-49da-a239-8067ddfe1ea9"
      },
      "outputs": [
        {
          "output_type": "stream",
          "name": "stdout",
          "text": [
            "LNyHnaj\n",
            "aDooXzmX\n",
            "QOTocv\n",
            "nKdmDsyg\n",
            "yPOSxiXU\n",
            "OtHmGO\n",
            "mWJyrLBM\n",
            "yPVbAgEl\n",
            "cDQcukDQ\n",
            "DBgZrKw\n",
            "wVTKET\n",
            "suzHFTt\n",
            "zgwWQo\n",
            "rkXtVsI\n",
            "dirWOpa\n",
            "XxBAEFOI\n",
            "jcAjulgV\n",
            "BWvqkVCH\n",
            "pLOCMgmQ\n",
            "Asykmm\n",
            "mrGrgOF\n",
            "qJhmawZ\n",
            "yTySlt\n",
            "aQvyrL\n",
            "svXHudV\n",
            "DhSZaOA\n",
            "YzDnqTxV\n",
            "AUIXjjJ\n",
            "yzNYhQ\n",
            "AdaYZGG\n",
            "qSramdU\n",
            "EppiHjo\n",
            "TCVgYjAj\n",
            "xuNFiXmM\n",
            "fswtxDO\n",
            "JwumPLo\n",
            "Bcfxsi\n",
            "eveaYJ\n",
            "DRfMOI\n",
            "tiZeon\n",
            "bOuKgD\n",
            "PzvKWJQ\n",
            "beSsBUhf\n",
            "TNcdWz\n",
            "nPtbCnx\n",
            "HpRgIpQD\n",
            "AGzHhD\n",
            "MmecHcc\n",
            "nZtWkDQ\n",
            "WhKfgTO\n",
            "QGvroOA\n",
            "jZxpDXP\n",
            "IeWQIh\n",
            "DZXQcdP\n",
            "NvALew\n",
            "smGiMDgr\n",
            "HfpOxoR\n",
            "SZMVALHL\n",
            "UxCWIcme\n",
            "ZuXUPdCI\n",
            "yrykmjmI\n",
            "gXCLAVHy\n",
            "tLWfoOwL\n",
            "ZVkJBGH\n",
            "fGxubQc\n",
            "CWlYawDd\n",
            "olSmaat\n",
            "isOynKx\n",
            "RdzpBE\n",
            "XLvJZuNs\n",
            "zdXHlc\n",
            "PGgYAfqB\n",
            "rRBAws\n",
            "OePAoAgo\n",
            "iBFobo\n",
            "phqjbv\n",
            "aEkVRCw\n",
            "HrQygR\n",
            "aUjBRo\n",
            "JHwMvX\n",
            "hzLtdHM\n",
            "LSPqYX\n",
            "TrFnxNXn\n",
            "fOgkQNS\n",
            "MOsXMf\n",
            "XRYPOMhX\n",
            "JfhLSdb\n",
            "YplMDHS\n",
            "blLtAl\n",
            "pMvanrC\n",
            "XRCkcqyZ\n",
            "BmoxNf\n",
            "nIAIAX\n",
            "sGWaweEe\n",
            "BMhxiDtl\n",
            "qRhHLB\n",
            "CCuLVj\n",
            "APfwaSQ\n",
            "OyajNvWk\n",
            "cRChVToX\n"
          ]
        }
      ],
      "source": [
        "import string as s\n",
        "import random as r\n",
        "\n",
        "res = [''.join(r.choice(s.ascii_letters) for i in range(r.randint(6,8))) for i in range(100)]\n",
        "\n",
        "for string in res:\n",
        "    print(string)"
      ]
    },
    {
      "cell_type": "code",
      "source": [
        "def IsPrime(n):\n",
        "  for i in range(2,n//2+1):\n",
        "      if n%i==0:\n",
        "        return 0\n",
        "  return 1\n",
        "    \n",
        "for n in range(600,800):\n",
        "  if IsPrime(n):\n",
        "    print(n)"
      ],
      "metadata": {
        "colab": {
          "base_uri": "https://localhost:8080/"
        },
        "id": "JdpMCds3qLcZ",
        "outputId": "c631df48-96be-418d-b9b9-2d9a0d5a9d1f"
      },
      "execution_count": null,
      "outputs": [
        {
          "output_type": "stream",
          "name": "stdout",
          "text": [
            "601\n",
            "607\n",
            "613\n",
            "617\n",
            "619\n",
            "631\n",
            "641\n",
            "643\n",
            "647\n",
            "653\n",
            "659\n",
            "661\n",
            "673\n",
            "677\n",
            "683\n",
            "691\n",
            "701\n",
            "709\n",
            "719\n",
            "727\n",
            "733\n",
            "739\n",
            "743\n",
            "751\n",
            "757\n",
            "761\n",
            "769\n",
            "773\n",
            "787\n",
            "797\n"
          ]
        }
      ]
    },
    {
      "cell_type": "code",
      "source": [
        "for i in range(100,1001):\n",
        "  if i%7==0 and i%9==0:\n",
        "    print(i)"
      ],
      "metadata": {
        "colab": {
          "base_uri": "https://localhost:8080/"
        },
        "id": "qQDd555HqWnx",
        "outputId": "95a2a868-57fc-42a2-e875-dfe0384030bd"
      },
      "execution_count": null,
      "outputs": [
        {
          "output_type": "stream",
          "name": "stdout",
          "text": [
            "126\n",
            "189\n",
            "252\n",
            "315\n",
            "378\n",
            "441\n",
            "504\n",
            "567\n",
            "630\n",
            "693\n",
            "756\n",
            "819\n",
            "882\n",
            "945\n"
          ]
        }
      ]
    }
  ]
}